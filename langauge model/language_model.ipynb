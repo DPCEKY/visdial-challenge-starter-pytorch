{
 "cells": [
  {
   "cell_type": "code",
   "execution_count": 1,
   "metadata": {},
   "outputs": [],
   "source": [
    "import spacy\n",
    "from spacy.symbols import ORTH\n",
    "from torchtext import data, datasets\n",
    "import torch\n",
    "import torch.nn as nn\n",
    "import torch.optim as optim"
   ]
  },
  {
   "cell_type": "code",
   "execution_count": 2,
   "metadata": {},
   "outputs": [
    {
     "name": "stdout",
     "output_type": "stream",
     "text": [
      "Use CUDA: False\n"
     ]
    }
   ],
   "source": [
    "USE_CUDA = torch.cuda.is_available()\n",
    "device = torch.device(\"cuda\" if USE_CUDA else \"cpu\")\n",
    "print(\"Use CUDA:\", USE_CUDA)"
   ]
  },
  {
   "cell_type": "markdown",
   "metadata": {},
   "source": [
    "# Hyperparameters"
   ]
  },
  {
   "cell_type": "code",
   "execution_count": 3,
   "metadata": {},
   "outputs": [],
   "source": [
    "nhid = 200\n",
    "embed_dim = 300\n",
    "lr = 10"
   ]
  },
  {
   "cell_type": "markdown",
   "metadata": {},
   "source": [
    "# Read Data"
   ]
  },
  {
   "cell_type": "code",
   "execution_count": 4,
   "metadata": {},
   "outputs": [],
   "source": [
    "bptt_len = 60\n",
    "batch_size = 32"
   ]
  },
  {
   "cell_type": "code",
   "execution_count": 5,
   "metadata": {},
   "outputs": [],
   "source": [
    "text_file = 'combined.txt'"
   ]
  },
  {
   "cell_type": "code",
   "execution_count": 6,
   "metadata": {},
   "outputs": [],
   "source": [
    "lm_tok = spacy.load('en')\n",
    "def spacy_tok(x):\n",
    "    return [tok.text for tok in lm_tok.tokenizer(x)]\n",
    "\n",
    "TEXT = data.ReversibleField(sequential=True, tokenize=spacy_tok,\n",
    "                            lower=True, include_lengths=False)"
   ]
  },
  {
   "cell_type": "code",
   "execution_count": 7,
   "metadata": {},
   "outputs": [],
   "source": [
    "text_dataset = datasets.LanguageModelingDataset(text_file, TEXT, newline_eos=True)"
   ]
  },
  {
   "cell_type": "code",
   "execution_count": 8,
   "metadata": {},
   "outputs": [
    {
     "ename": "NameError",
     "evalue": "name 'questions_dataset' is not defined",
     "output_type": "error",
     "traceback": [
      "\u001b[0;31m---------------------------------------------------------------------------\u001b[0m",
      "\u001b[0;31mNameError\u001b[0m                                 Traceback (most recent call last)",
      "\u001b[0;32m<ipython-input-8-ae31a88a5e3b>\u001b[0m in \u001b[0;36m<module>\u001b[0;34m()\u001b[0m\n\u001b[1;32m      1\u001b[0m \u001b[0mvectors\u001b[0m \u001b[0;34m=\u001b[0m \u001b[0;34m\"glove.840B.300d\"\u001b[0m\u001b[0;34m\u001b[0m\u001b[0m\n\u001b[0;32m----> 2\u001b[0;31m \u001b[0mTEXT\u001b[0m\u001b[0;34m.\u001b[0m\u001b[0mbuild_vocab\u001b[0m\u001b[0;34m(\u001b[0m\u001b[0mquestions_dataset\u001b[0m\u001b[0;34m,\u001b[0m \u001b[0mvectors\u001b[0m\u001b[0;34m=\u001b[0m\u001b[0mvectors\u001b[0m\u001b[0;34m)\u001b[0m\u001b[0;34m\u001b[0m\u001b[0m\n\u001b[0m",
      "\u001b[0;31mNameError\u001b[0m: name 'questions_dataset' is not defined"
     ]
    }
   ],
   "source": [
    "vectors = \"glove.840B.300d\"\n",
    "TEXT.build_vocab(questions_dataset, vectors=vectors)"
   ]
  },
  {
   "cell_type": "code",
   "execution_count": 24,
   "metadata": {},
   "outputs": [],
   "source": [
    "# iterators\n",
    "train_iter = data.BPTTIterator(train_dataset, batch_size=batch_size, bptt_len=bptt_len, repeat=False, shuffle=True)\n",
    "dev_iter = data.BPTTIterator(dev_dataset, batch_size=batch_size, bptt_len=bptt_len, repeat=False)"
   ]
  },
  {
   "cell_type": "code",
   "execution_count": 25,
   "metadata": {},
   "outputs": [
    {
     "data": {
      "text/plain": [
       "15871"
      ]
     },
     "execution_count": 25,
     "metadata": {},
     "output_type": "execute_result"
    }
   ],
   "source": [
    "len(TEXT.vocab)"
   ]
  },
  {
   "cell_type": "code",
   "execution_count": 27,
   "metadata": {},
   "outputs": [],
   "source": [
    "# Create embeddings\n",
    "embedding = nn.Embedding(len(TEXT.vocab), embed_dim)\n",
    "embedding.weight.data.copy_(TEXT.vocab.vectors)\n",
    "embedding.weight.requires_grad = False\n",
    "embedding = embedding.to(device)"
   ]
  },
  {
   "cell_type": "markdown",
   "metadata": {},
   "source": [
    "# Define Model"
   ]
  },
  {
   "cell_type": "code",
   "execution_count": 30,
   "metadata": {},
   "outputs": [],
   "source": [
    "class LM(nn.Module):\n",
    "    def __init__(self, ntoken, ninp, nhid, embedding, dropout=0.5):\n",
    "        super(LM, self).__init__()\n",
    "        self.nhid = nhid\n",
    "        self.encoder = embedding\n",
    "        self.rnn = nn.LSTM(ninp, nhid, batch_first=True)\n",
    "        self.decoder = nn.Linear(nhid, ntoken)\n",
    "        self.embed_drop = nn.Dropout(dropout)\n",
    "        self.output_drop = nn.Dropout(dropout)\n",
    "#         self.embed_drop = LockedDropout(dropout)\n",
    "#         self.output_drop = LockedDropout(dropout)\n",
    "\n",
    "        # # tie weights\n",
    "        # self.decoder.weight = self.encoder.weight\n",
    "\n",
    "    def forward(self, inputs, hidden=None):\n",
    "        \"\"\"\n",
    "\n",
    "        :param inputs: (batch_size, max_len)\n",
    "        :param hidden: ((1, batch_size, nhid), (1, batch_size, nhid))\n",
    "        :return:\n",
    "        \"\"\"\n",
    "        emb = self.embed_drop(self.encoder(inputs))\n",
    "        if hidden:\n",
    "            outputs, hidden = self.rnn(emb, hidden)\n",
    "        else:\n",
    "            outputs, hidden = self.rnn(emb)\n",
    "        outputs = self.output_drop(outputs)\n",
    "        decoded = self.decoder(outputs)\n",
    "        return decoded, outputs, hidden"
   ]
  },
  {
   "cell_type": "code",
   "execution_count": 33,
   "metadata": {},
   "outputs": [],
   "source": [
    "lm = LM(len(TEXT.vocab), embed_dim, nhid, embedding)\n",
    "criterion = nn.CrossEntropyLoss()\n",
    "optimizer = optim.SGD(lm.parameters(), lr=lr)"
   ]
  },
  {
   "cell_type": "markdown",
   "metadata": {},
   "source": [
    "# Training"
   ]
  },
  {
   "cell_type": "code",
   "execution_count": 36,
   "metadata": {},
   "outputs": [
    {
     "name": "stdout",
     "output_type": "stream",
     "text": [
      "torch.Size([32, 60])\n",
      "torch.Size([32, 60])\n",
      "torch.Size([32, 60, 15871])\n"
     ]
    }
   ],
   "source": [
    "for batch in bpttiter:\n",
    "    x, y = batch.text.transpose(0, 1).contiguous().to(device), \\\n",
    "                   batch.target.transpose(0, 1).contiguous().to(device)\n",
    "    print(x.shape)\n",
    "    print(y.shape)\n",
    "    \n",
    "    out, _, _ = lm(x)\n",
    "    print(out.shape)\n",
    "    \n",
    "#     print(x)\n",
    "#     print(y)\n",
    "    break"
   ]
  },
  {
   "cell_type": "code",
   "execution_count": null,
   "metadata": {},
   "outputs": [],
   "source": []
  }
 ],
 "metadata": {
  "kernelspec": {
   "display_name": "Python 3",
   "language": "python",
   "name": "python3"
  },
  "language_info": {
   "codemirror_mode": {
    "name": "ipython",
    "version": 3
   },
   "file_extension": ".py",
   "mimetype": "text/x-python",
   "name": "python",
   "nbconvert_exporter": "python",
   "pygments_lexer": "ipython3",
   "version": "3.6.5"
  }
 },
 "nbformat": 4,
 "nbformat_minor": 2
}

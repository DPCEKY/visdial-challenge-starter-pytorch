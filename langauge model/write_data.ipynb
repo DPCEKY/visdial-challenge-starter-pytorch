{
 "cells": [
  {
   "cell_type": "code",
   "execution_count": 1,
   "metadata": {},
   "outputs": [],
   "source": [
    "import json\n",
    "import numpy as np"
   ]
  },
  {
   "cell_type": "code",
   "execution_count": 2,
   "metadata": {},
   "outputs": [],
   "source": [
    "questions = []\n",
    "answers = []"
   ]
  },
  {
   "cell_type": "code",
   "execution_count": 3,
   "metadata": {},
   "outputs": [
    {
     "name": "stdout",
     "output_type": "stream",
     "text": [
      "dict_keys(['dialogs', 'answers', 'questions'])\n"
     ]
    }
   ],
   "source": [
    "with open('visdial_1.0_train.json') as json_file:\n",
    "    data = json.load(json_file)['data']\n",
    "    print(data.keys())\n",
    "    \n",
    "    questions = data['questions']\n",
    "    answers = data['answers']"
   ]
  },
  {
   "cell_type": "code",
   "execution_count": 4,
   "metadata": {},
   "outputs": [
    {
     "name": "stdout",
     "output_type": "stream",
     "text": [
      "376082\n",
      "337527\n"
     ]
    }
   ],
   "source": [
    "print(len(questions))\n",
    "print(len(answers))"
   ]
  },
  {
   "cell_type": "code",
   "execution_count": 7,
   "metadata": {},
   "outputs": [],
   "source": [
    "combined = questions + answers\n",
    "np.random.shuffle(combined)\n",
    "train, dev = combined[:int(len(combined)*0.7)], combined[int(len(combined)*0.7):]"
   ]
  },
  {
   "cell_type": "code",
   "execution_count": 8,
   "metadata": {},
   "outputs": [],
   "source": [
    "train_f = 'train.txt'\n",
    "dev_f = 'dev.txt'"
   ]
  },
  {
   "cell_type": "code",
   "execution_count": 9,
   "metadata": {},
   "outputs": [],
   "source": [
    "def write_to_file(data, fname):\n",
    "    with open(fname, 'w') as f:\n",
    "        for line in data:\n",
    "            f.write(line + ' \\n')\n",
    "\n",
    "write_to_file(train, train_f)\n",
    "write_to_file(dev, dev_f)"
   ]
  },
  {
   "cell_type": "code",
   "execution_count": null,
   "metadata": {},
   "outputs": [],
   "source": []
  }
 ],
 "metadata": {
  "kernelspec": {
   "display_name": "Python 3",
   "language": "python",
   "name": "python3"
  },
  "language_info": {
   "codemirror_mode": {
    "name": "ipython",
    "version": 3
   },
   "file_extension": ".py",
   "mimetype": "text/x-python",
   "name": "python",
   "nbconvert_exporter": "python",
   "pygments_lexer": "ipython3",
   "version": "3.6.5"
  }
 },
 "nbformat": 4,
 "nbformat_minor": 2
}
